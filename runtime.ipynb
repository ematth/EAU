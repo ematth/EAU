{
 "cells": [
  {
   "cell_type": "code",
   "execution_count": 4,
   "id": "29c7e9e9",
   "metadata": {},
   "outputs": [],
   "source": [
    "def timer(func):\n",
    "    import time\n",
    "    def wrapper(*args, **kwargs):\n",
    "        s = time.time()\n",
    "        result = func(*args, **kwargs)\n",
    "        e = time.time()    \n",
    "        print(f\"Function {func.__name__} took {e - s:.4f}\")\n",
    "        return result    \n",
    "    return wrapper"
   ]
  },
  {
   "cell_type": "markdown",
   "id": "9e124c1d",
   "metadata": {},
   "source": [
    "# STFT"
   ]
  },
  {
   "cell_type": "code",
   "execution_count": null,
   "id": "cf519441",
   "metadata": {},
   "outputs": [],
   "source": [
    "from torch.nn.functional import fold, unfold\n",
    "from torch import arange, FloatTensor, ones\n",
    "from torch.fft import rfft, irfft\n",
    "\n",
    "def stft1( input_sound, dft_size, hop_size, zero_pad):\n",
    "    from numpy import array\n",
    "    from numpy.fft import rfft\n",
    "    from numpy import hanning\n",
    "    return rfft(hanning(dft_size) * array( [input_sound[i:i+dft_size] for i in range(0, len( input_sound)-dft_size, hop_size)]), axis=-1, n=dft_size+zero_pad).T\n",
    "\n",
    "def stft2(x, dft_size, hop_size, zero_pad, window):\n",
    "    ux = window[:,None] * unfold( x[None,None,None,:], kernel_size=(1,dft_size), stride=(1,hop_size))[0]\n",
    "    return rfft( ux, n=dft_size+zero_pad, axis=-2)"
   ]
  },
  {
   "cell_type": "code",
   "execution_count": null,
   "id": "a5433e34",
   "metadata": {},
   "outputs": [
    {
     "name": "stdout",
     "output_type": "stream",
     "text": [
      "Function stft1 took 0.0016\n",
      "Function stft2 took 0.0005\n"
     ]
    }
   ],
   "source": [
    "import soundfile as sf\n",
    "import torch\n",
    "\n",
    "def time(func)\n",
    "\n",
    "x, sr = sf.read('piano.wav')\n",
    "_=stft1(x, 1024, 256, 0)\n",
    "\n",
    "_=stft2(torch.Tensor(x), 1024, 256, 0, torch.hann_window(1024))"
   ]
  },
  {
   "cell_type": "code",
   "execution_count": null,
   "id": "5849a363",
   "metadata": {},
   "outputs": [],
   "source": []
  }
 ],
 "metadata": {
  "kernelspec": {
   "display_name": "venv",
   "language": "python",
   "name": "python3"
  },
  "language_info": {
   "codemirror_mode": {
    "name": "ipython",
    "version": 3
   },
   "file_extension": ".py",
   "mimetype": "text/x-python",
   "name": "python",
   "nbconvert_exporter": "python",
   "pygments_lexer": "ipython3",
   "version": "3.12.6"
  }
 },
 "nbformat": 4,
 "nbformat_minor": 5
}
